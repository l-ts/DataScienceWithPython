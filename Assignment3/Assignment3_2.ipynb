{
 "cells": [
  {
   "cell_type": "markdown",
   "metadata": {},
   "source": [
    "# Question 2"
   ]
  },
  {
   "cell_type": "markdown",
   "metadata": {},
   "source": [
    "First of all, we import the required modules."
   ]
  },
  {
   "cell_type": "code",
   "execution_count": 1,
   "metadata": {},
   "outputs": [
    {
     "name": "stderr",
     "output_type": "stream",
     "text": [
      "C:\\Users\\leo\\Anaconda3\\lib\\site-packages\\statsmodels\\compat\\pandas.py:56: FutureWarning: The pandas.core.datetools module is deprecated and will be removed in a future version. Please use the pandas.tseries module instead.\n",
      "  from pandas.core import datetools\n"
     ]
    }
   ],
   "source": [
    "import pandas as pd\n",
    "import statsmodels.api as sm\n",
    "import statsmodels.formula.api as smf\n",
    "import statsmodels.graphics as sgr\n",
    "import matplotlib.pyplot as plt\n",
    "import numpy as np\n",
    "import datetime as dt\n",
    "\n",
    "\n",
    "from matplotlib.collections import LineCollection\n",
    "from statsmodels.stats.outliers_influence import summary_table\n",
    "from matplotlib import figure\n",
    "\n",
    "%matplotlib inline"
   ]
  },
  {
   "cell_type": "markdown",
   "metadata": {},
   "source": [
    "We import the csv file and set date as index."
   ]
  },
  {
   "cell_type": "code",
   "execution_count": 2,
   "metadata": {},
   "outputs": [
    {
     "data": {
      "text/html": [
       "<div>\n",
       "<style>\n",
       "    .dataframe thead tr:only-child th {\n",
       "        text-align: right;\n",
       "    }\n",
       "\n",
       "    .dataframe thead th {\n",
       "        text-align: left;\n",
       "    }\n",
       "\n",
       "    .dataframe tbody tr th {\n",
       "        vertical-align: top;\n",
       "    }\n",
       "</style>\n",
       "<table border=\"1\" class=\"dataframe\">\n",
       "  <thead>\n",
       "    <tr style=\"text-align: right;\">\n",
       "      <th></th>\n",
       "      <th>Region</th>\n",
       "      <th>Date</th>\n",
       "      <th>Price</th>\n",
       "      <th>Time left on Auction</th>\n",
       "    </tr>\n",
       "  </thead>\n",
       "  <tbody>\n",
       "    <tr>\n",
       "      <th>0</th>\n",
       "      <td>US</td>\n",
       "      <td>4/7/2015 17:12</td>\n",
       "      <td>30000</td>\n",
       "      <td>Short</td>\n",
       "    </tr>\n",
       "    <tr>\n",
       "      <th>1</th>\n",
       "      <td>US</td>\n",
       "      <td>4/7/2015 17:42</td>\n",
       "      <td>30000</td>\n",
       "      <td>Short</td>\n",
       "    </tr>\n",
       "    <tr>\n",
       "      <th>2</th>\n",
       "      <td>US</td>\n",
       "      <td>4/7/2015 18:13</td>\n",
       "      <td>30300</td>\n",
       "      <td>Short</td>\n",
       "    </tr>\n",
       "    <tr>\n",
       "      <th>3</th>\n",
       "      <td>US</td>\n",
       "      <td>4/7/2015 18:42</td>\n",
       "      <td>30300</td>\n",
       "      <td>Short</td>\n",
       "    </tr>\n",
       "    <tr>\n",
       "      <th>4</th>\n",
       "      <td>US</td>\n",
       "      <td>4/7/2015 19:04</td>\n",
       "      <td>30603</td>\n",
       "      <td>Short</td>\n",
       "    </tr>\n",
       "    <tr>\n",
       "      <th>5</th>\n",
       "      <td>US</td>\n",
       "      <td>4/7/2015 20:04</td>\n",
       "      <td>30909</td>\n",
       "      <td>Short</td>\n",
       "    </tr>\n",
       "    <tr>\n",
       "      <th>6</th>\n",
       "      <td>US</td>\n",
       "      <td>4/7/2015 21:04</td>\n",
       "      <td>31218</td>\n",
       "      <td>Short</td>\n",
       "    </tr>\n",
       "    <tr>\n",
       "      <th>7</th>\n",
       "      <td>US</td>\n",
       "      <td>4/7/2015 22:04</td>\n",
       "      <td>30906</td>\n",
       "      <td>Short</td>\n",
       "    </tr>\n",
       "    <tr>\n",
       "      <th>8</th>\n",
       "      <td>US</td>\n",
       "      <td>4/7/2015 23:04</td>\n",
       "      <td>31215</td>\n",
       "      <td>Short</td>\n",
       "    </tr>\n",
       "    <tr>\n",
       "      <th>9</th>\n",
       "      <td>US</td>\n",
       "      <td>4/8/2015 0:04</td>\n",
       "      <td>30903</td>\n",
       "      <td>Short</td>\n",
       "    </tr>\n",
       "  </tbody>\n",
       "</table>\n",
       "</div>"
      ],
      "text/plain": [
       "  Region            Date  Price Time left on Auction\n",
       "0     US  4/7/2015 17:12  30000                Short\n",
       "1     US  4/7/2015 17:42  30000                Short\n",
       "2     US  4/7/2015 18:13  30300                Short\n",
       "3     US  4/7/2015 18:42  30300                Short\n",
       "4     US  4/7/2015 19:04  30603                Short\n",
       "5     US  4/7/2015 20:04  30909                Short\n",
       "6     US  4/7/2015 21:04  31218                Short\n",
       "7     US  4/7/2015 22:04  30906                Short\n",
       "8     US  4/7/2015 23:04  31215                Short\n",
       "9     US   4/8/2015 0:04  30903                Short"
      ]
     },
     "execution_count": 2,
     "metadata": {},
     "output_type": "execute_result"
    }
   ],
   "source": [
    "wow_df = pd.read_csv('wowcointotal.csv') #read csv\n",
    "index = pd.Index(sm.tsa.datetools.dates_from_range('2015Q1', '2017Q4'))#use time as index\n",
    "wow_df.head(10) #select first 10 records"
   ]
  },
  {
   "cell_type": "markdown",
   "metadata": {},
   "source": [
    "We import datetime module and transform Date into 'YYYY-MM-DD' format. Then we convert Dates to ordinal values in order to use time points as the independent variable for our predictions. We store it in a new column in our model names Date_ord."
   ]
  },
  {
   "cell_type": "code",
   "execution_count": 3,
   "metadata": {
    "collapsed": true
   },
   "outputs": [],
   "source": [
    "import datetime as dt\n",
    "\n",
    "wow_df.Date = pd.to_datetime(wow_df.Date, format='%m/%d/%Y %H:%M') #change date format\n",
    "wow_df['Date_ord'] = wow_df.Date.map(dt.datetime.toordinal) #convert to ordinal"
   ]
  },
  {
   "cell_type": "markdown",
   "metadata": {},
   "source": [
    "In order to apply Linear Regression analysis, we will use R-style formulas."
   ]
  },
  {
   "cell_type": "code",
   "execution_count": 4,
   "metadata": {},
   "outputs": [
    {
     "data": {
      "text/plain": [
       "Intercept   -8.904469e+07\n",
       "Date_ord     1.210384e+02\n",
       "dtype: float64"
      ]
     },
     "execution_count": 4,
     "metadata": {},
     "output_type": "execute_result"
    }
   ],
   "source": [
    "from sklearn.linear_model import LinearRegression\n",
    "\n",
    "mod = smf.ols(\"Price ~ Date_ord\", data=wow_df) #We create a model\n",
    "wow_res = mod.fit() #and fit it\n",
    "wow_res.params #`params` attribute gives us the intercept and the slope of the regression line."
   ]
  },
  {
   "cell_type": "markdown",
   "metadata": {},
   "source": [
    "We will know see a summary of all regression results and parameters."
   ]
  },
  {
   "cell_type": "code",
   "execution_count": 5,
   "metadata": {},
   "outputs": [
    {
     "data": {
      "text/html": [
       "<table class=\"simpletable\">\n",
       "<caption>OLS Regression Results</caption>\n",
       "<tr>\n",
       "  <th>Dep. Variable:</th>          <td>Price</td>      <th>  R-squared:         </th>  <td>   0.737</td>  \n",
       "</tr>\n",
       "<tr>\n",
       "  <th>Model:</th>                   <td>OLS</td>       <th>  Adj. R-squared:    </th>  <td>   0.737</td>  \n",
       "</tr>\n",
       "<tr>\n",
       "  <th>Method:</th>             <td>Least Squares</td>  <th>  F-statistic:       </th>  <td>3.226e+05</td> \n",
       "</tr>\n",
       "<tr>\n",
       "  <th>Date:</th>             <td>Sun, 14 Jan 2018</td> <th>  Prob (F-statistic):</th>   <td>  0.00</td>   \n",
       "</tr>\n",
       "<tr>\n",
       "  <th>Time:</th>                 <td>20:14:33</td>     <th>  Log-Likelihood:    </th> <td>-1.2932e+06</td>\n",
       "</tr>\n",
       "<tr>\n",
       "  <th>No. Observations:</th>      <td>115274</td>      <th>  AIC:               </th>  <td>2.586e+06</td> \n",
       "</tr>\n",
       "<tr>\n",
       "  <th>Df Residuals:</th>          <td>115272</td>      <th>  BIC:               </th>  <td>2.586e+06</td> \n",
       "</tr>\n",
       "<tr>\n",
       "  <th>Df Model:</th>              <td>     1</td>      <th>                     </th>      <td> </td>     \n",
       "</tr>\n",
       "<tr>\n",
       "  <th>Covariance Type:</th>      <td>nonrobust</td>    <th>                     </th>      <td> </td>     \n",
       "</tr>\n",
       "</table>\n",
       "<table class=\"simpletable\">\n",
       "<tr>\n",
       "      <td></td>         <th>coef</th>     <th>std err</th>      <th>t</th>      <th>P>|t|</th>  <th>[0.025</th>    <th>0.975]</th>  \n",
       "</tr>\n",
       "<tr>\n",
       "  <th>Intercept</th> <td>-8.904e+07</td> <td> 1.57e+05</td> <td> -567.620</td> <td> 0.000</td> <td>-8.94e+07</td> <td>-8.87e+07</td>\n",
       "</tr>\n",
       "<tr>\n",
       "  <th>Date_ord</th>  <td>  121.0384</td> <td>    0.213</td> <td>  567.974</td> <td> 0.000</td> <td>  120.621</td> <td>  121.456</td>\n",
       "</tr>\n",
       "</table>\n",
       "<table class=\"simpletable\">\n",
       "<tr>\n",
       "  <th>Omnibus:</th>       <td>427.664</td> <th>  Durbin-Watson:     </th> <td>   0.000</td>\n",
       "</tr>\n",
       "<tr>\n",
       "  <th>Prob(Omnibus):</th> <td> 0.000</td>  <th>  Jarque-Bera (JB):  </th> <td> 432.924</td>\n",
       "</tr>\n",
       "<tr>\n",
       "  <th>Skew:</th>          <td> 0.147</td>  <th>  Prob(JB):          </th> <td>9.81e-95</td>\n",
       "</tr>\n",
       "<tr>\n",
       "  <th>Kurtosis:</th>      <td> 3.060</td>  <th>  Cond. No.          </th> <td>2.18e+09</td>\n",
       "</tr>\n",
       "</table>"
      ],
      "text/plain": [
       "<class 'statsmodels.iolib.summary.Summary'>\n",
       "\"\"\"\n",
       "                            OLS Regression Results                            \n",
       "==============================================================================\n",
       "Dep. Variable:                  Price   R-squared:                       0.737\n",
       "Model:                            OLS   Adj. R-squared:                  0.737\n",
       "Method:                 Least Squares   F-statistic:                 3.226e+05\n",
       "Date:                Sun, 14 Jan 2018   Prob (F-statistic):               0.00\n",
       "Time:                        20:14:33   Log-Likelihood:            -1.2932e+06\n",
       "No. Observations:              115274   AIC:                         2.586e+06\n",
       "Df Residuals:                  115272   BIC:                         2.586e+06\n",
       "Df Model:                           1                                         \n",
       "Covariance Type:            nonrobust                                         \n",
       "==============================================================================\n",
       "                 coef    std err          t      P>|t|      [0.025      0.975]\n",
       "------------------------------------------------------------------------------\n",
       "Intercept  -8.904e+07   1.57e+05   -567.620      0.000   -8.94e+07   -8.87e+07\n",
       "Date_ord     121.0384      0.213    567.974      0.000     120.621     121.456\n",
       "==============================================================================\n",
       "Omnibus:                      427.664   Durbin-Watson:                   0.000\n",
       "Prob(Omnibus):                  0.000   Jarque-Bera (JB):              432.924\n",
       "Skew:                           0.147   Prob(JB):                     9.81e-95\n",
       "Kurtosis:                       3.060   Cond. No.                     2.18e+09\n",
       "==============================================================================\n",
       "\n",
       "Warnings:\n",
       "[1] Standard Errors assume that the covariance matrix of the errors is correctly specified.\n",
       "[2] The condition number is large, 2.18e+09. This might indicate that there are\n",
       "strong multicollinearity or other numerical problems.\n",
       "\"\"\""
      ]
     },
     "execution_count": 5,
     "metadata": {},
     "output_type": "execute_result"
    }
   ],
   "source": [
    "wow_res.summary()"
   ]
  },
  {
   "cell_type": "markdown",
   "metadata": {},
   "source": [
    "At this point, we will plot our fitted model and the corresponding data for price over time."
   ]
  },
  {
   "cell_type": "code",
   "execution_count": 6,
   "metadata": {},
   "outputs": [
    {
     "data": {
      "image/png": "[encoded data removed]",
      "text/plain": [
       "<matplotlib.figure.Figure at 0x231cf835ba8>"
      ]
     },
     "metadata": {},
     "output_type": "display_data"
    }
   ],
   "source": [
    "fig = plt.figure(figsize=(12,8))\n",
    "ax = fig.add_subplot(111)\n",
    "\n",
    "wow_price = wow_df.Price.values\n",
    "wow_date = wow_df.Date.values\n",
    "ax.scatter(wow_date,wow_price)\n",
    "fig = sgr.regressionplots.abline_plot(model_results=wow_res, ax=ax)"
   ]
  },
  {
   "cell_type": "markdown",
   "metadata": {},
   "source": [
    "It is also useful to plot the observed data along with the fitted data, that is, the data on the regression line that correspond to the xxvalues."
   ]
  },
  {
   "cell_type": "markdown",
   "metadata": {},
   "source": [
    "The fitted values of our model are:"
   ]
  },
  {
   "cell_type": "code",
   "execution_count": 7,
   "metadata": {},
   "outputs": [
    {
     "data": {
      "text/plain": [
       "0           2618.914351\n",
       "1           2618.914351\n",
       "2           2618.914351\n",
       "3           2618.914351\n",
       "4           2618.914351\n",
       "5           2618.914351\n",
       "6           2618.914351\n",
       "7           2618.914351\n",
       "8           2618.914351\n",
       "9           2739.952703\n",
       "10          2739.952703\n",
       "11          2739.952703\n",
       "12          2739.952703\n",
       "13          2739.952703\n",
       "14          2739.952703\n",
       "15          2739.952703\n",
       "16          2739.952703\n",
       "17          2739.952703\n",
       "18          2739.952703\n",
       "19          2739.952703\n",
       "20          2739.952703\n",
       "21          2739.952703\n",
       "22          2739.952703\n",
       "23          2739.952703\n",
       "24          2739.952703\n",
       "25          2739.952703\n",
       "26          2739.952703\n",
       "27          2739.952703\n",
       "28          2739.952703\n",
       "29          2739.952703\n",
       "              ...      \n",
       "115244    111069.277900\n",
       "115245    111069.277900\n",
       "115246    111069.277900\n",
       "115247    111069.277900\n",
       "115248    111069.277900\n",
       "115249    111069.277900\n",
       "115250    111069.277900\n",
       "115251    111069.277900\n",
       "115252    111069.277900\n",
       "115253    111069.277900\n",
       "115254    111069.277900\n",
       "115255    111069.277900\n",
       "115256    111069.277900\n",
       "115257    111069.277900\n",
       "115258    111069.277900\n",
       "115259    111069.277900\n",
       "115260    111069.277900\n",
       "115261    111069.277900\n",
       "115262    111069.277900\n",
       "115263    111069.277900\n",
       "115264    111069.277900\n",
       "115265    111069.277900\n",
       "115266    111069.277900\n",
       "115267    111069.277900\n",
       "115268    111069.277900\n",
       "115269    111069.277900\n",
       "115270    111069.277900\n",
       "115271    111069.277900\n",
       "115272    111069.277900\n",
       "115273    111069.277900\n",
       "Length: 115274, dtype: float64"
      ]
     },
     "execution_count": 7,
     "metadata": {},
     "output_type": "execute_result"
    }
   ],
   "source": [
    "wow_res.fittedvalues"
   ]
  },
  {
   "cell_type": "markdown",
   "metadata": {},
   "source": [
    "We can see that there is a tipping point between 2017-01 and 2017-04. To see which Date_ord values the tipping point corresponds to, we will plot again but with ordinal values as x-axis values."
   ]
  },
  {
   "cell_type": "code",
   "execution_count": 8,
   "metadata": {},
   "outputs": [
    {
     "data": {
      "image/png": "[encoded data removed]",
      "text/plain": [
       "<matplotlib.figure.Figure at 0x231cfcc2588>"
      ]
     },
     "metadata": {},
     "output_type": "display_data"
    }
   ],
   "source": [
    "fig = plt.figure(figsize=(12,8))\n",
    "ax = fig.add_subplot(111)\n",
    "\n",
    "wow_price = wow_df.Price.values\n",
    "wow_date = wow_df.Date_ord.values\n",
    "ax.scatter(wow_date,wow_price)\n",
    "fig = sgr.regressionplots.abline_plot(model_results=wow_res, ax=ax)"
   ]
  },
  {
   "cell_type": "markdown",
   "metadata": {},
   "source": [
    "We will ordinal value 736380 as our tipping point."
   ]
  },
  {
   "cell_type": "markdown",
   "metadata": {},
   "source": [
    "We will split our dataframes into two dataframes according to the datetime compared to the tipping point."
   ]
  },
  {
   "cell_type": "code",
   "execution_count": 9,
   "metadata": {
    "collapsed": true
   },
   "outputs": [],
   "source": [
    "wow_df_1 = wow_df[wow_df.Date_ord <=736380]\n",
    "wow_df_2 = wow_df[wow_df.Date_ord >736380]"
   ]
  },
  {
   "cell_type": "markdown",
   "metadata": {},
   "source": [
    "Now we will apply two linear regression models to each data frame respectively."
   ]
  },
  {
   "cell_type": "code",
   "execution_count": 10,
   "metadata": {},
   "outputs": [
    {
     "data": {
      "text/plain": [
       "Intercept   -3.922465e+07\n",
       "Date_ord     5.334437e+01\n",
       "dtype: float64"
      ]
     },
     "execution_count": 10,
     "metadata": {},
     "output_type": "execute_result"
    }
   ],
   "source": [
    "mod_1 = smf.ols(\"Price ~ Date_ord\", data=wow_df_1) #We create a model\n",
    "wow_res_1 = mod_1.fit() #and fit it\n",
    "wow_res_1.params #`params` attribute gives us the intercept and the slope of the regression line."
   ]
  },
  {
   "cell_type": "code",
   "execution_count": 11,
   "metadata": {
    "scrolled": true
   },
   "outputs": [
    {
     "data": {
      "text/html": [
       "<table class=\"simpletable\">\n",
       "<caption>OLS Regression Results</caption>\n",
       "<tr>\n",
       "  <th>Dep. Variable:</th>          <td>Price</td>      <th>  R-squared:         </th>  <td>   0.685</td>  \n",
       "</tr>\n",
       "<tr>\n",
       "  <th>Model:</th>                   <td>OLS</td>       <th>  Adj. R-squared:    </th>  <td>   0.685</td>  \n",
       "</tr>\n",
       "<tr>\n",
       "  <th>Method:</th>             <td>Least Squares</td>  <th>  F-statistic:       </th>  <td>1.962e+05</td> \n",
       "</tr>\n",
       "<tr>\n",
       "  <th>Date:</th>             <td>Sun, 14 Jan 2018</td> <th>  Prob (F-statistic):</th>   <td>  0.00</td>   \n",
       "</tr>\n",
       "<tr>\n",
       "  <th>Time:</th>                 <td>20:14:51</td>     <th>  Log-Likelihood:    </th> <td>-9.2860e+05</td>\n",
       "</tr>\n",
       "<tr>\n",
       "  <th>No. Observations:</th>      <td> 90371</td>      <th>  AIC:               </th>  <td>1.857e+06</td> \n",
       "</tr>\n",
       "<tr>\n",
       "  <th>Df Residuals:</th>          <td> 90369</td>      <th>  BIC:               </th>  <td>1.857e+06</td> \n",
       "</tr>\n",
       "<tr>\n",
       "  <th>Df Model:</th>              <td>     1</td>      <th>                     </th>      <td> </td>     \n",
       "</tr>\n",
       "<tr>\n",
       "  <th>Covariance Type:</th>      <td>nonrobust</td>    <th>                     </th>      <td> </td>     \n",
       "</tr>\n",
       "</table>\n",
       "<table class=\"simpletable\">\n",
       "<tr>\n",
       "      <td></td>         <th>coef</th>     <th>std err</th>      <th>t</th>      <th>P>|t|</th>  <th>[0.025</th>    <th>0.975]</th>  \n",
       "</tr>\n",
       "<tr>\n",
       "  <th>Intercept</th> <td>-3.922e+07</td> <td> 8.86e+04</td> <td> -442.537</td> <td> 0.000</td> <td>-3.94e+07</td> <td>-3.91e+07</td>\n",
       "</tr>\n",
       "<tr>\n",
       "  <th>Date_ord</th>  <td>   53.3444</td> <td>    0.120</td> <td>  442.976</td> <td> 0.000</td> <td>   53.108</td> <td>   53.580</td>\n",
       "</tr>\n",
       "</table>\n",
       "<table class=\"simpletable\">\n",
       "<tr>\n",
       "  <th>Omnibus:</th>       <td>36129.812</td> <th>  Durbin-Watson:     </th>  <td>   0.000</td> \n",
       "</tr>\n",
       "<tr>\n",
       "  <th>Prob(Omnibus):</th>  <td> 0.000</td>   <th>  Jarque-Bera (JB):  </th> <td>411968.111</td>\n",
       "</tr>\n",
       "<tr>\n",
       "  <th>Skew:</th>           <td> 1.605</td>   <th>  Prob(JB):          </th>  <td>    0.00</td> \n",
       "</tr>\n",
       "<tr>\n",
       "  <th>Kurtosis:</th>       <td>12.955</td>   <th>  Cond. No.          </th>  <td>2.79e+09</td> \n",
       "</tr>\n",
       "</table>"
      ],
      "text/plain": [
       "<class 'statsmodels.iolib.summary.Summary'>\n",
       "\"\"\"\n",
       "                            OLS Regression Results                            \n",
       "==============================================================================\n",
       "Dep. Variable:                  Price   R-squared:                       0.685\n",
       "Model:                            OLS   Adj. R-squared:                  0.685\n",
       "Method:                 Least Squares   F-statistic:                 1.962e+05\n",
       "Date:                Sun, 14 Jan 2018   Prob (F-statistic):               0.00\n",
       "Time:                        20:14:51   Log-Likelihood:            -9.2860e+05\n",
       "No. Observations:               90371   AIC:                         1.857e+06\n",
       "Df Residuals:                   90369   BIC:                         1.857e+06\n",
       "Df Model:                           1                                         \n",
       "Covariance Type:            nonrobust                                         \n",
       "==============================================================================\n",
       "                 coef    std err          t      P>|t|      [0.025      0.975]\n",
       "------------------------------------------------------------------------------\n",
       "Intercept  -3.922e+07   8.86e+04   -442.537      0.000   -3.94e+07   -3.91e+07\n",
       "Date_ord      53.3444      0.120    442.976      0.000      53.108      53.580\n",
       "==============================================================================\n",
       "Omnibus:                    36129.812   Durbin-Watson:                   0.000\n",
       "Prob(Omnibus):                  0.000   Jarque-Bera (JB):           411968.111\n",
       "Skew:                           1.605   Prob(JB):                         0.00\n",
       "Kurtosis:                      12.955   Cond. No.                     2.79e+09\n",
       "==============================================================================\n",
       "\n",
       "Warnings:\n",
       "[1] Standard Errors assume that the covariance matrix of the errors is correctly specified.\n",
       "[2] The condition number is large, 2.79e+09. This might indicate that there are\n",
       "strong multicollinearity or other numerical problems.\n",
       "\"\"\""
      ]
     },
     "execution_count": 11,
     "metadata": {},
     "output_type": "execute_result"
    }
   ],
   "source": [
    "wow_res_1.summary()"
   ]
  },
  {
   "cell_type": "code",
   "execution_count": 12,
   "metadata": {},
   "outputs": [
    {
     "data": {
      "text/plain": [
       "Intercept   -2.580534e+08\n",
       "Date_ord     3.505488e+02\n",
       "dtype: float64"
      ]
     },
     "execution_count": 12,
     "metadata": {},
     "output_type": "execute_result"
    }
   ],
   "source": [
    "mod_2 = smf.ols(\"Price ~ Date_ord\", data=wow_df_2) #We create a model\n",
    "wow_res_2 = mod_2.fit() #and fit it\n",
    "wow_res_2.params #`params` attribute gives us the intercept and the slope of the regression line."
   ]
  },
  {
   "cell_type": "code",
   "execution_count": 13,
   "metadata": {},
   "outputs": [
    {
     "data": {
      "text/html": [
       "<table class=\"simpletable\">\n",
       "<caption>OLS Regression Results</caption>\n",
       "<tr>\n",
       "  <th>Dep. Variable:</th>          <td>Price</td>      <th>  R-squared:         </th>  <td>   0.906</td>  \n",
       "</tr>\n",
       "<tr>\n",
       "  <th>Model:</th>                   <td>OLS</td>       <th>  Adj. R-squared:    </th>  <td>   0.906</td>  \n",
       "</tr>\n",
       "<tr>\n",
       "  <th>Method:</th>             <td>Least Squares</td>  <th>  F-statistic:       </th>  <td>2.409e+05</td> \n",
       "</tr>\n",
       "<tr>\n",
       "  <th>Date:</th>             <td>Sun, 14 Jan 2018</td> <th>  Prob (F-statistic):</th>   <td>  0.00</td>   \n",
       "</tr>\n",
       "<tr>\n",
       "  <th>Time:</th>                 <td>20:14:57</td>     <th>  Log-Likelihood:    </th> <td>-2.5348e+05</td>\n",
       "</tr>\n",
       "<tr>\n",
       "  <th>No. Observations:</th>      <td> 24903</td>      <th>  AIC:               </th>  <td>5.070e+05</td> \n",
       "</tr>\n",
       "<tr>\n",
       "  <th>Df Residuals:</th>          <td> 24901</td>      <th>  BIC:               </th>  <td>5.070e+05</td> \n",
       "</tr>\n",
       "<tr>\n",
       "  <th>Df Model:</th>              <td>     1</td>      <th>                     </th>      <td> </td>     \n",
       "</tr>\n",
       "<tr>\n",
       "  <th>Covariance Type:</th>      <td>nonrobust</td>    <th>                     </th>      <td> </td>     \n",
       "</tr>\n",
       "</table>\n",
       "<table class=\"simpletable\">\n",
       "<tr>\n",
       "      <td></td>         <th>coef</th>     <th>std err</th>      <th>t</th>      <th>P>|t|</th>  <th>[0.025</th>    <th>0.975]</th>  \n",
       "</tr>\n",
       "<tr>\n",
       "  <th>Intercept</th> <td>-2.581e+08</td> <td> 5.26e+05</td> <td> -490.548</td> <td> 0.000</td> <td>-2.59e+08</td> <td>-2.57e+08</td>\n",
       "</tr>\n",
       "<tr>\n",
       "  <th>Date_ord</th>  <td>  350.5488</td> <td>    0.714</td> <td>  490.769</td> <td> 0.000</td> <td>  349.149</td> <td>  351.949</td>\n",
       "</tr>\n",
       "</table>\n",
       "<table class=\"simpletable\">\n",
       "<tr>\n",
       "  <th>Omnibus:</th>       <td>4976.393</td> <th>  Durbin-Watson:     </th> <td>   0.002</td> \n",
       "</tr>\n",
       "<tr>\n",
       "  <th>Prob(Omnibus):</th>  <td> 0.000</td>  <th>  Jarque-Bera (JB):  </th> <td>13929.852</td>\n",
       "</tr>\n",
       "<tr>\n",
       "  <th>Skew:</th>           <td> 1.063</td>  <th>  Prob(JB):          </th> <td>    0.00</td> \n",
       "</tr>\n",
       "<tr>\n",
       "  <th>Kurtosis:</th>       <td> 5.984</td>  <th>  Cond. No.          </th> <td>9.59e+09</td> \n",
       "</tr>\n",
       "</table>"
      ],
      "text/plain": [
       "<class 'statsmodels.iolib.summary.Summary'>\n",
       "\"\"\"\n",
       "                            OLS Regression Results                            \n",
       "==============================================================================\n",
       "Dep. Variable:                  Price   R-squared:                       0.906\n",
       "Model:                            OLS   Adj. R-squared:                  0.906\n",
       "Method:                 Least Squares   F-statistic:                 2.409e+05\n",
       "Date:                Sun, 14 Jan 2018   Prob (F-statistic):               0.00\n",
       "Time:                        20:14:57   Log-Likelihood:            -2.5348e+05\n",
       "No. Observations:               24903   AIC:                         5.070e+05\n",
       "Df Residuals:                   24901   BIC:                         5.070e+05\n",
       "Df Model:                           1                                         \n",
       "Covariance Type:            nonrobust                                         \n",
       "==============================================================================\n",
       "                 coef    std err          t      P>|t|      [0.025      0.975]\n",
       "------------------------------------------------------------------------------\n",
       "Intercept  -2.581e+08   5.26e+05   -490.548      0.000   -2.59e+08   -2.57e+08\n",
       "Date_ord     350.5488      0.714    490.769      0.000     349.149     351.949\n",
       "==============================================================================\n",
       "Omnibus:                     4976.393   Durbin-Watson:                   0.002\n",
       "Prob(Omnibus):                  0.000   Jarque-Bera (JB):            13929.852\n",
       "Skew:                           1.063   Prob(JB):                         0.00\n",
       "Kurtosis:                       5.984   Cond. No.                     9.59e+09\n",
       "==============================================================================\n",
       "\n",
       "Warnings:\n",
       "[1] Standard Errors assume that the covariance matrix of the errors is correctly specified.\n",
       "[2] The condition number is large, 9.59e+09. This might indicate that there are\n",
       "strong multicollinearity or other numerical problems.\n",
       "\"\"\""
      ]
     },
     "execution_count": 13,
     "metadata": {},
     "output_type": "execute_result"
    }
   ],
   "source": [
    "wow_res_2.summary()"
   ]
  },
  {
   "cell_type": "markdown",
   "metadata": {},
   "source": [
    "Comparing R-squared values of our initial models with the two new, we find out that mod_1 has slightly worse accuracy (0.685) than the initial model (0.737), since it has a lower value. \n",
    "\n",
    "But mod_2 has very improved accuracy since it has R-squared value qual to 0.906. In general terms, we can say that there is not a huge difference between the two models(same p-values as well), but there is a slight improvement when spliting into two dataframes, especially at predictions after the tipping point. "
   ]
  }
 ],
 "metadata": {
  "kernelspec": {
   "display_name": "Python 3",
   "language": "python",
   "name": "python3"
  },
  "language_info": {
   "codemirror_mode": {
    "name": "ipython",
    "version": 3
   },
   "file_extension": ".py",
   "mimetype": "text/x-python",
   "name": "python",
   "nbconvert_exporter": "python",
   "pygments_lexer": "ipython3",
   "version": "3.6.3"
  }
 },
 "nbformat": 4,
 "nbformat_minor": 2
}
